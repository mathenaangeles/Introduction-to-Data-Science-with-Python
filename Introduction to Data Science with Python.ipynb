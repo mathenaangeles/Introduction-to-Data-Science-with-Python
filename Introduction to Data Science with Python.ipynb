{
 "cells": [
  {
   "cell_type": "markdown",
   "metadata": {
    "application/vnd.databricks.v1+cell": {
     "cellMetadata": {
      "byteLimit": 2048000,
      "rowLimit": 10000
     },
     "inputWidgets": {},
     "nuid": "29c10ce0-3ebe-4c2a-a062-45df601e99c7",
     "showTitle": false,
     "title": ""
    }
   },
   "source": [
    "# Introduction to Data Science with Python\n",
    "\n",
    "**Data science** is an interdisciplinary field that uses scientific methods, algorithms, and systems to extract knowledge and insights from data."
   ]
  },
  {
   "cell_type": "code",
   "execution_count": 0,
   "metadata": {
    "application/vnd.databricks.v1+cell": {
     "cellMetadata": {
      "byteLimit": 2048000,
      "rowLimit": 10000
     },
     "inputWidgets": {},
     "nuid": "89440964-f50c-4cd3-854d-18b30e1a1d2c",
     "showTitle": false,
     "title": ""
    }
   },
   "outputs": [
    {
     "output_type": "stream",
     "name": "stdout",
     "output_type": "stream",
     "text": [
      "Hello, world.\n"
     ]
    }
   ],
   "source": [
    "print(\"Hello, world.\")"
   ]
  },
  {
   "cell_type": "code",
   "execution_count": 0,
   "metadata": {
    "application/vnd.databricks.v1+cell": {
     "cellMetadata": {
      "byteLimit": 2048000,
      "rowLimit": 10000
     },
     "inputWidgets": {},
     "nuid": "b14e669c-d043-4971-b048-ca8039e6f351",
     "showTitle": false,
     "title": ""
    }
   },
   "outputs": [
    {
     "output_type": "stream",
     "name": "stdout",
     "output_type": "stream",
     "text": [
      "3.11.0rc1 (main, Aug 12 2022, 10:02:14) [GCC 11.2.0]\n"
     ]
    }
   ],
   "source": [
    "# Check the Python version\n",
    "import sys\n",
    "print(sys.version)"
   ]
  },
  {
   "cell_type": "markdown",
   "metadata": {
    "application/vnd.databricks.v1+cell": {
     "cellMetadata": {
      "byteLimit": 2048000,
      "rowLimit": 10000
     },
     "inputWidgets": {},
     "nuid": "5de280e7-d6fb-42aa-be55-2fcd9d36ade8",
     "showTitle": false,
     "title": ""
    }
   },
   "source": [
    "## I. Getting Started with Python \n",
    "Python is the programming language of choice for many data scientists because it is **easy to learn**, it is **open-source**, and has extensive **libraries** (esp. for machine learning). \n",
    "\n",
    "Please refer to the [Python documentation](https://docs.python.org/3/) to learn more about Python."
   ]
  },
  {
   "cell_type": "markdown",
   "metadata": {
    "application/vnd.databricks.v1+cell": {
     "cellMetadata": {
      "byteLimit": 2048000,
      "rowLimit": 10000
     },
     "inputWidgets": {},
     "nuid": "d4c4b57d-da9f-4d91-a044-5add761764bc",
     "showTitle": false,
     "title": ""
    }
   },
   "source": [
    "### 1. Variables and Operators\n",
    "\n",
    "**Variables** are named references to objects in memory. **Data types** are the categories of data that tells you what kind of operations can be performed on it. \n",
    "\n",
    "These are the naming conventions you have to keep in mind for variables:\n",
    "- A variable name must start with a letter or the underscore character (_)\n",
    "- A variable name cannot start with a number\n",
    "- A variable name can only contain alpha-numeric characters and underscores (A-z, 0-9, and _ )\n",
    "- Variable names are case-sensitive (e.g., name, Name and NAME are three different variables)"
   ]
  },
  {
   "cell_type": "code",
   "execution_count": 0,
   "metadata": {
    "application/vnd.databricks.v1+cell": {
     "cellMetadata": {
      "byteLimit": 2048000,
      "rowLimit": 10000
     },
     "inputWidgets": {},
     "nuid": "4d7dfb48-e462-4573-b48a-3a91345eba3b",
     "showTitle": false,
     "title": ""
    }
   },
   "outputs": [
    {
     "output_type": "stream",
     "name": "stdout",
     "output_type": "stream",
     "text": [
      "String: hello\nInteger: 10\nFloat: 0.5\n"
     ]
    }
   ],
   "source": [
    "# This is a comment.\n",
    "\n",
    "\"\"\"\n",
    "This is a multi-line comment.\n",
    "\n",
    "An f-string (formatted string literal) in Python is a way to embed expressions/variables inside strings. To create an f-string, prefix the string with the letter f. Inside the string, you can include expressions within curly braces {} that will be evaluated at runtime and print the value of the variable.\n",
    "\"\"\"\n",
    "\n",
    "text = \"hello\"\n",
    "print(f\"String: {text}\")\n",
    "\n",
    "number = 10\n",
    "print(f\"Integer: {number}\")\n",
    "\n",
    "decimal = 0.5\n",
    "print(f\"Float: {decimal}\")"
   ]
  },
  {
   "cell_type": "code",
   "execution_count": 0,
   "metadata": {
    "application/vnd.databricks.v1+cell": {
     "cellMetadata": {
      "byteLimit": 2048000,
      "rowLimit": 10000
     },
     "inputWidgets": {},
     "nuid": "db5b8558-0336-4339-b51e-21b595fa6103",
     "showTitle": false,
     "title": ""
    }
   },
   "outputs": [
    {
     "output_type": "stream",
     "name": "stdout",
     "output_type": "stream",
     "text": [
      "10.5\n9.5\n5.0\n20.0\n100\n1\n4\n"
     ]
    }
   ],
   "source": [
    "# Arithmentic Operations\n",
    "\n",
    "print(number + decimal) # addition\n",
    "print(number - decimal) # subtraction\n",
    "print(number * decimal) # multiplication\n",
    "print(number / decimal) # division\n",
    "print(number ** 2) # exponentiation\n",
    "print(10 // 6) # floor division\n",
    "print(10 % 6) # modulus"
   ]
  },
  {
   "cell_type": "code",
   "execution_count": 0,
   "metadata": {
    "application/vnd.databricks.v1+cell": {
     "cellMetadata": {
      "byteLimit": 2048000,
      "rowLimit": 10000
     },
     "inputWidgets": {},
     "nuid": "4be107d3-3907-4425-abca-43c7cc9879c7",
     "showTitle": false,
     "title": ""
    }
   },
   "outputs": [
    {
     "output_type": "stream",
     "name": "stdout",
     "output_type": "stream",
     "text": [
      "Boolean: True\nBoolean: False\n"
     ]
    }
   ],
   "source": [
    "is_true = True\n",
    "is_false = False\n",
    "print(f\"Boolean: {is_true}\")\n",
    "print(f\"Boolean: {is_false}\")"
   ]
  },
  {
   "cell_type": "code",
   "execution_count": 0,
   "metadata": {
    "application/vnd.databricks.v1+cell": {
     "cellMetadata": {
      "byteLimit": 2048000,
      "rowLimit": 10000
     },
     "inputWidgets": {},
     "nuid": "dfb06fcc-4522-4fc8-9b1d-973f85bfd1b1",
     "showTitle": false,
     "title": ""
    }
   },
   "outputs": [
    {
     "output_type": "stream",
     "name": "stdout",
     "output_type": "stream",
     "text": [
      "False\nFalse\nFalse\nTrue\nTrue\nTrue\n"
     ]
    }
   ],
   "source": [
    "# Relational Operators \n",
    "\n",
    "print(number == decimal) # equal\n",
    "print(number < decimal) # less than\n",
    "print(number <= decimal) # less than or equal \n",
    "print(number > decimal) # greater than\n",
    "print(number >= decimal) # greater than or equal \n",
    "print(number != decimal) # not equal"
   ]
  },
  {
   "cell_type": "markdown",
   "metadata": {
    "application/vnd.databricks.v1+cell": {
     "cellMetadata": {
      "byteLimit": 2048000,
      "rowLimit": 10000
     },
     "inputWidgets": {},
     "nuid": "543811d0-d4ed-4bb6-9bd7-08b1cddf931c",
     "showTitle": false,
     "title": ""
    }
   },
   "source": [
    "#### Conditional Statements\n",
    "A conditional statement (**if-/if-else/if-elif-else**) is a control structure that executes a block of code if the specified condition is met. Python supports nested conditional statements."
   ]
  },
  {
   "cell_type": "code",
   "execution_count": 0,
   "metadata": {
    "application/vnd.databricks.v1+cell": {
     "cellMetadata": {
      "byteLimit": 2048000,
      "rowLimit": 10000
     },
     "inputWidgets": {},
     "nuid": "cd8422ae-a291-405f-b2fd-bafda58d971c",
     "showTitle": false,
     "title": ""
    }
   },
   "outputs": [
    {
     "output_type": "stream",
     "name": "stdout",
     "output_type": "stream",
     "text": [
      "At least one of the operands are true.\nThe operand is not true.\n"
     ]
    }
   ],
   "source": [
    "# Logical Operators\n",
    "\n",
    "if (number == 10 and decimal == 0.2): # conjunction\n",
    "    print(\"Both operands are true.\")\n",
    "elif (number == 10 or decimal == 0.2): # disjunction\n",
    "    print(\"At least one of the operands are true.\")\n",
    "else:\n",
    "    print(\"Neither the operands are true.\")\n",
    "\n",
    "if (not decimal == 0.2): # negation\n",
    "    print(\"The operand is not true.\")"
   ]
  },
  {
   "cell_type": "code",
   "execution_count": 0,
   "metadata": {
    "application/vnd.databricks.v1+cell": {
     "cellMetadata": {
      "byteLimit": 2048000,
      "rowLimit": 10000
     },
     "inputWidgets": {},
     "nuid": "a58123f5-38df-4445-a4c2-fc6ba69af175",
     "showTitle": false,
     "title": ""
    }
   },
   "outputs": [
    {
     "output_type": "stream",
     "name": "stdout",
     "output_type": "stream",
     "text": [
      "Dictionary: {'String': 'hello', 'Integer': 10, 'Decimal': 0.5, 'Boolean': True}\nThe value of the key 'String' is hello.\nList: [10, 0.5, 'hello', True, False]\n"
     ]
    }
   ],
   "source": [
    "#  A dictionaries is a collection of key-value pairs where each key is associated with a value\n",
    "dictionary = {\"String\": text, \"Integer\": number, \"Decimal\": decimal, \"Boolean\": is_true}\n",
    "print(f\"Dictionary: {dictionary}\")\n",
    "print(f\"The value of the key 'String' is {dictionary['String']}.\")\n",
    "\n",
    "group = [number, decimal, text, is_true, is_false]\n",
    "print(f\"List: {group}\")"
   ]
  },
  {
   "cell_type": "markdown",
   "metadata": {
    "application/vnd.databricks.v1+cell": {
     "cellMetadata": {
      "byteLimit": 2048000,
      "rowLimit": 10000
     },
     "inputWidgets": {},
     "nuid": "999e26cf-ef19-4f69-a322-40aa9bb344b8",
     "showTitle": false,
     "title": ""
    }
   },
   "source": [
    "### 2. Lists\n",
    "A list is a **mutable**, **ordered** collection of item. Lists can contain items of any data type. \n",
    "\n",
    "- The **index number** of an item allows you to access it from the list. **Indexing starts from 0**.\n",
    "- We use the **slice** operation to get a subset of the list. You can slice a list using the syntax `list[start_index:stop_index:step]`."
   ]
  },
  {
   "cell_type": "code",
   "execution_count": 0,
   "metadata": {
    "application/vnd.databricks.v1+cell": {
     "cellMetadata": {
      "byteLimit": 2048000,
      "rowLimit": 10000
     },
     "inputWidgets": {},
     "nuid": "bfc131dd-f13d-48fe-b313-01fcf08e4a8e",
     "showTitle": false,
     "title": ""
    }
   },
   "outputs": [
    {
     "output_type": "stream",
     "name": "stdout",
     "output_type": "stream",
     "text": [
      "The first element in the list is 1.\nThe third element in the list is 3.\n10 is index 9 of the list.\nThis length of the list is 10.\nThe last element in the list is 10.\n"
     ]
    }
   ],
   "source": [
    "one_to_ten = [1, 2, 3, 4, 5, 6, 7, 8, 9, 10]\n",
    "print(f\"The first element in the list is {one_to_ten[0]}.\")\n",
    "print(f\"The third element in the list is {one_to_ten[2]}.\")\n",
    "print(f\"10 is index {one_to_ten.index(10)} of the list.\")\n",
    "\n",
    "# Get the length of the array\n",
    "length = len(one_to_ten)\n",
    "print(f\"This length of the list is {length}.\")\n",
    "print(f\"The last element in the list is {one_to_ten[length-1]}.\")"
   ]
  },
  {
   "cell_type": "code",
   "execution_count": 0,
   "metadata": {
    "application/vnd.databricks.v1+cell": {
     "cellMetadata": {
      "byteLimit": 2048000,
      "rowLimit": 10000
     },
     "inputWidgets": {},
     "nuid": "9bfb74f7-bf59-46cf-a29c-7fc1a25f0a5c",
     "showTitle": false,
     "title": ""
    }
   },
   "outputs": [
    {
     "output_type": "stream",
     "name": "stdout",
     "output_type": "stream",
     "text": [
      "[1, 2, 3, 4, 5, 6, 7, 8, 9, 10]\n[2, 3, 4, 5, 6, 7, 8, 9]\n[1, 3, 5, 7, 9]\n[1, 2, 3, 4, 5]\n"
     ]
    }
   ],
   "source": [
    "print(one_to_ten[0:length:1])\n",
    "print(one_to_ten[1:length-1])\n",
    "print(one_to_ten[::2])\n",
    "\n",
    "# Get half of the array - the element at index 0 (1) to the element at index 4 (5) - not including the element at index 5 (6), which is the stop index\n",
    "half = one_to_ten[0:length//2]\n",
    "print(half)"
   ]
  },
  {
   "cell_type": "code",
   "execution_count": 0,
   "metadata": {
    "application/vnd.databricks.v1+cell": {
     "cellMetadata": {
      "byteLimit": 2048000,
      "rowLimit": 10000
     },
     "inputWidgets": {},
     "nuid": "997c84e9-d071-424a-8850-4495cd733532",
     "showTitle": false,
     "title": ""
    }
   },
   "outputs": [
    {
     "output_type": "stream",
     "name": "stdout",
     "output_type": "stream",
     "text": [
      "[[1, 2, 3, 4, 5, 6, 7, 8, 9, 10], [11, 12, 13, 14, 15, 16, 17, 18, 19, 20]]\n[1, 2, 3, 4, 5, 6, 7, 8, 9, 10, 11, 12, 13, 14, 15, 16, 17, 18, 19, 20]\n"
     ]
    }
   ],
   "source": [
    "eleven_to_twenty = [11,12,13,14,15,16,17,18,19,20]\n",
    "# Combine the lists into a 2D matrix\n",
    "nested_combined = [one_to_ten, eleven_to_twenty]\n",
    "print(nested_combined)\n",
    "# Combine the lists into a 1D array/list\n",
    "combined = one_to_ten + eleven_to_twenty\n",
    "print(combined)"
   ]
  },
  {
   "cell_type": "markdown",
   "metadata": {
    "application/vnd.databricks.v1+cell": {
     "cellMetadata": {
      "byteLimit": 2048000,
      "rowLimit": 10000
     },
     "inputWidgets": {},
     "nuid": "57227401-2795-40da-92c7-78ce29673f24",
     "showTitle": false,
     "title": ""
    }
   },
   "source": [
    "#### Loops \n",
    "Loops are control structures that are used to execute a block of code repeatedly until the specified condition is met. Python supports nested loops.\n",
    "- **for-loops** are used for iterating over a sequence, such as a list, tuple, dictionary, set, or string\n",
    "- **while-loops** are used for executing a block of code for as long as a condition is still true"
   ]
  },
  {
   "cell_type": "code",
   "execution_count": 0,
   "metadata": {
    "application/vnd.databricks.v1+cell": {
     "cellMetadata": {
      "byteLimit": 2048000,
      "rowLimit": 10000
     },
     "inputWidgets": {},
     "nuid": "be291310-c987-48a5-a0b6-901c12b43c3b",
     "showTitle": false,
     "title": ""
    }
   },
   "outputs": [
    {
     "output_type": "stream",
     "name": "stdout",
     "output_type": "stream",
     "text": [
      "1,2,3,4,5,\n\n1,2,3,4,5,"
     ]
    }
   ],
   "source": [
    "for i in half:\n",
    "    print(i, end=\",\")\n",
    "\n",
    "print(\"\\n\")\n",
    "\n",
    "i = 0\n",
    "while i!=5:\n",
    "    print(half[i], end=\",\")\n",
    "    i = i + 1"
   ]
  },
  {
   "cell_type": "code",
   "execution_count": 0,
   "metadata": {
    "application/vnd.databricks.v1+cell": {
     "cellMetadata": {
      "byteLimit": 2048000,
      "rowLimit": 10000
     },
     "inputWidgets": {},
     "nuid": "1143b034-9ab2-4cf5-97e9-a743b6db86d4",
     "showTitle": false,
     "title": ""
    }
   },
   "outputs": [
    {
     "output_type": "stream",
     "name": "stdout",
     "output_type": "stream",
     "text": [
      "2,4,6,8,10,\n\n2,4,6,8,10,"
     ]
    }
   ],
   "source": [
    "for j in range(1, length, 2):\n",
    "    print(one_to_ten[j], end=\",\")\n",
    "\n",
    "print(\"\\n\")\n",
    "\n",
    "j = 0\n",
    "while j!=length:\n",
    "    if one_to_ten[j] % 2 == 0:\n",
    "        print(one_to_ten[j], end=\",\")\n",
    "    j = j + 1"
   ]
  },
  {
   "cell_type": "markdown",
   "metadata": {
    "application/vnd.databricks.v1+cell": {
     "cellMetadata": {
      "byteLimit": 2048000,
      "rowLimit": 10000
     },
     "inputWidgets": {},
     "nuid": "241f3dcc-546a-451f-aa11-225f5dd12846",
     "showTitle": false,
     "title": ""
    }
   },
   "source": [
    "### 3. Methods and Functions\n",
    "Methods and functions are blocks of code that perform a specific task. They can be built-in or user-defined.\n",
    "- A **method** in Python is a function that is associated with an **object**. When you define a method within a class, it becomes part of that class and can be called on any instance of the class. To call a method, use the syntax `object.method(arguments)`.\n",
    "- A **function**, on the other hand, is a standalone block of code that can be called by its name. Functions are  not tied to any specific object or class. To call a function, use the syntax `function(arguments)`."
   ]
  },
  {
   "cell_type": "code",
   "execution_count": 0,
   "metadata": {
    "application/vnd.databricks.v1+cell": {
     "cellMetadata": {
      "byteLimit": 2048000,
      "rowLimit": 10000
     },
     "inputWidgets": {},
     "nuid": "ceb1830b-f36c-4f98-a39e-106570976c1d",
     "showTitle": false,
     "title": ""
    }
   },
   "outputs": [
    {
     "output_type": "stream",
     "name": "stdout",
     "output_type": "stream",
     "text": [
      "10 [1, 2, 3, 4, 5, 6, 7, 8, 9]\nNone [1, 2, 3, 4, 5, 6, 7, 8, 9, 10]\nThis minimum value in the array is 1.\nThis maximum value in the array is 10.\nThe sum of the list is 55.\n"
     ]
    }
   ],
   "source": [
    "# Methods\n",
    "print(one_to_ten.pop(length-1), one_to_ten) # Remove element from the list with pop(index)\n",
    "print(one_to_ten.append(10), one_to_ten) # Add elements to the list with append(element)\n",
    "\n",
    "# Functions\n",
    "minimum = min(one_to_ten)\n",
    "maximum = max(one_to_ten)\n",
    "print(f\"This minimum value in the array is {minimum}.\")\n",
    "print(f\"This maximum value in the array is {maximum}.\")\n",
    "\n",
    "sum_one_to_ten = sum(one_to_ten)\n",
    "print(f\"The sum of the list is {sum_one_to_ten}.\")"
   ]
  },
  {
   "cell_type": "markdown",
   "metadata": {
    "application/vnd.databricks.v1+cell": {
     "cellMetadata": {
      "byteLimit": 2048000,
      "rowLimit": 10000
     },
     "inputWidgets": {},
     "nuid": "cb29900c-c4a7-43ca-a8d6-4a7a5c5a53a1",
     "showTitle": false,
     "title": ""
    }
   },
   "source": [
    "#### Classes\n",
    "A class is a blueprint for creating **objects**. All classes have a **constructor** called `__init__()`, which is executed when the object is being instantiated. The `self` parameter is a reference to the current instance of the class, and is used to access **attributes** that belongs to the class."
   ]
  },
  {
   "cell_type": "code",
   "execution_count": 0,
   "metadata": {
    "application/vnd.databricks.v1+cell": {
     "cellMetadata": {
      "byteLimit": 2048000,
      "rowLimit": 10000
     },
     "inputWidgets": {},
     "nuid": "b2084b1f-ad99-47f8-8c3b-4f9bb1f4b714",
     "showTitle": false,
     "title": ""
    }
   },
   "outputs": [
    {
     "output_type": "stream",
     "name": "stdout",
     "output_type": "stream",
     "text": [
      "1 4\n2 9\n"
     ]
    }
   ],
   "source": [
    "class Product:\n",
    "    def __init__(self, id, status):\n",
    "        self.id = id\n",
    "        self.stock = status\n",
    "    def buy(self):\n",
    "        self.stock = self.stock - 1\n",
    "\n",
    "products = [Product(1,5), Product(2,10)] # Use the object to create objects or instances of the class\n",
    "  \n",
    "def buy_all(products): \n",
    "    for product in products:\n",
    "        product.buy()\n",
    "    return\n",
    "\n",
    "buy_all(products)\n",
    "\n",
    "for product in products:\n",
    "    print(product.id, product.stock)"
   ]
  },
  {
   "cell_type": "markdown",
   "metadata": {
    "application/vnd.databricks.v1+cell": {
     "cellMetadata": {
      "byteLimit": 2048000,
      "rowLimit": 10000
     },
     "inputWidgets": {},
     "nuid": "2d53b228-8069-4b54-a264-6da2d14d9713",
     "showTitle": false,
     "title": ""
    }
   },
   "source": [
    "### 4. Libraries\n",
    " A **library** is a collection of modules that provide a set of functionalities and that be used across multiple Python projects.\n",
    "\n",
    " Use the `pip install` command to install packages that are not already in the workspace."
   ]
  },
  {
   "cell_type": "code",
   "execution_count": 0,
   "metadata": {
    "application/vnd.databricks.v1+cell": {
     "cellMetadata": {
      "byteLimit": 2048000,
      "rowLimit": 10000
     },
     "inputWidgets": {},
     "nuid": "9c91962f-cfe8-46fe-9a76-ef053b35d655",
     "showTitle": false,
     "title": ""
    }
   },
   "outputs": [
    {
     "output_type": "stream",
     "name": "stdout",
     "output_type": "stream",
     "text": [
      "\u001B[43mNote: you may need to restart the kernel using %restart_python or dbutils.library.restartPython() to use updated packages.\u001B[0m\nCollecting kaggle\n  Downloading kaggle-1.6.14.tar.gz (82 kB)\n\u001B[?25l     \u001B[90m━━━━━━━━━━━━━━━━━━━━━━━━━━━━━━━━━━━━━━━━\u001B[0m \u001B[32m0.0/82.1 kB\u001B[0m \u001B[31m?\u001B[0m eta \u001B[36m-:--:--\u001B[0m\n\u001B[2K     \u001B[90m━━━━━━━━━━━━━━━━━━━━━━━━━━━━━━━━━━━━━━━━\u001B[0m \u001B[32m82.1/82.1 kB\u001B[0m \u001B[31m2.2 MB/s\u001B[0m eta \u001B[36m0:00:00\u001B[0m\n\u001B[?25h  Preparing metadata (setup.py): started\n  Preparing metadata (setup.py): finished with status 'done'\nRequirement already satisfied: six>=1.10 in /usr/lib/python3/dist-packages (from kaggle) (1.16.0)\nRequirement already satisfied: certifi>=2023.7.22 in /databricks/python3/lib/python3.11/site-packages (from kaggle) (2023.7.22)\nRequirement already satisfied: python-dateutil in /databricks/python3/lib/python3.11/site-packages (from kaggle) (2.8.2)\nRequirement already satisfied: requests in /databricks/python3/lib/python3.11/site-packages (from kaggle) (2.31.0)\nCollecting tqdm (from kaggle)\n  Obtaining dependency information for tqdm from https://files.pythonhosted.org/packages/18/eb/fdb7eb9e48b7b02554e1664afd3bd3f117f6b6d6c5881438a0b055554f9b/tqdm-4.66.4-py3-none-any.whl.metadata\n  Downloading tqdm-4.66.4-py3-none-any.whl.metadata (57 kB)\n\u001B[?25l     \u001B[90m━━━━━━━━━━━━━━━━━━━━━━━━━━━━━━━━━━━━━━━━\u001B[0m \u001B[32m0.0/57.6 kB\u001B[0m \u001B[31m?\u001B[0m eta \u001B[36m-:--:--\u001B[0m\n\u001B[2K     \u001B[90m━━━━━━━━━━━━━━━━━━━━━━━━━━━━━━━━━━━━━━━━\u001B[0m \u001B[32m57.6/57.6 kB\u001B[0m \u001B[31m5.4 MB/s\u001B[0m eta \u001B[36m0:00:00\u001B[0m\n\u001B[?25hCollecting python-slugify (from kaggle)\n  Obtaining dependency information for python-slugify from https://files.pythonhosted.org/packages/a4/62/02da182e544a51a5c3ccf4b03ab79df279f9c60c5e82d5e8bec7ca26ac11/python_slugify-8.0.4-py2.py3-none-any.whl.metadata\n  Downloading python_slugify-8.0.4-py2.py3-none-any.whl.metadata (8.5 kB)\nRequirement already satisfied: urllib3 in /databricks/python3/lib/python3.11/site-packages (from kaggle) (1.26.16)\nCollecting bleach (from kaggle)\n  Obtaining dependency information for bleach from https://files.pythonhosted.org/packages/ea/63/da7237f805089ecc28a3f36bca6a21c31fcbc2eb380f3b8f1be3312abd14/bleach-6.1.0-py3-none-any.whl.metadata\n  Downloading bleach-6.1.0-py3-none-any.whl.metadata (30 kB)\nCollecting webencodings (from bleach->kaggle)\n  Obtaining dependency information for webencodings from https://files.pythonhosted.org/packages/f4/24/2a3e3df732393fed8b3ebf2ec078f05546de641fe1b667ee316ec1dcf3b7/webencodings-0.5.1-py2.py3-none-any.whl.metadata\n  Downloading webencodings-0.5.1-py2.py3-none-any.whl.metadata (2.1 kB)\nCollecting text-unidecode>=1.3 (from python-slugify->kaggle)\n  Obtaining dependency information for text-unidecode>=1.3 from https://files.pythonhosted.org/packages/a6/a5/c0b6468d3824fe3fde30dbb5e1f687b291608f9473681bbf7dabbf5a87d7/text_unidecode-1.3-py2.py3-none-any.whl.metadata\n  Downloading text_unidecode-1.3-py2.py3-none-any.whl.metadata (2.4 kB)\nRequirement already satisfied: charset-normalizer<4,>=2 in /databricks/python3/lib/python3.11/site-packages (from requests->kaggle) (2.0.4)\nRequirement already satisfied: idna<4,>=2.5 in /databricks/python3/lib/python3.11/site-packages (from requests->kaggle) (3.4)\nDownloading bleach-6.1.0-py3-none-any.whl (162 kB)\n\u001B[?25l   \u001B[90m━━━━━━━━━━━━━━━━━━━━━━━━━━━━━━━━━━━━━━━━\u001B[0m \u001B[32m0.0/162.8 kB\u001B[0m \u001B[31m?\u001B[0m eta \u001B[36m-:--:--\u001B[0m\n\u001B[2K   \u001B[90m━━━━━━━━━━━━━━━━━━━━━━━━━━━━━━━━━━━━━━━━\u001B[0m \u001B[32m162.8/162.8 kB\u001B[0m \u001B[31m12.9 MB/s\u001B[0m eta \u001B[36m0:00:00\u001B[0m\n\u001B[?25hDownloading python_slugify-8.0.4-py2.py3-none-any.whl (10 kB)\nDownloading tqdm-4.66.4-py3-none-any.whl (78 kB)\n\u001B[?25l   \u001B[90m━━━━━━━━━━━━━━━━━━━━━━━━━━━━━━━━━━━━━━━━\u001B[0m \u001B[32m0.0/78.3 kB\u001B[0m \u001B[31m?\u001B[0m eta \u001B[36m-:--:--\u001B[0m\n\u001B[2K   \u001B[90m━━━━━━━━━━━━━━━━━━━━━━━━━━━━━━━━━━━━━━━━\u001B[0m \u001B[32m78.3/78.3 kB\u001B[0m \u001B[31m10.6 MB/s\u001B[0m eta \u001B[36m0:00:00\u001B[0m\n\u001B[?25hDownloading text_unidecode-1.3-py2.py3-none-any.whl (78 kB)\n\u001B[?25l   \u001B[90m━━━━━━━━━━━━━━━━━━━━━━━━━━━━━━━━━━━━━━━━\u001B[0m \u001B[32m0.0/78.2 kB\u001B[0m \u001B[31m?\u001B[0m eta \u001B[36m-:--:--\u001B[0m\n\u001B[2K   \u001B[90m━━━━━━━━━━━━━━━━━━━━━━━━━━━━━━━━━━━━━━━━\u001B[0m \u001B[32m78.2/78.2 kB\u001B[0m \u001B[31m9.9 MB/s\u001B[0m eta \u001B[36m0:00:00\u001B[0m\n\u001B[?25hDownloading webencodings-0.5.1-py2.py3-none-any.whl (11 kB)\nBuilding wheels for collected packages: kaggle\n  Building wheel for kaggle (setup.py): started\n  Building wheel for kaggle (setup.py): finished with status 'done'\n  Created wheel for kaggle: filename=kaggle-1.6.14-py3-none-any.whl size=105123 sha256=13a550550db2be7efd87428b968ad24f2d58c12095b5f1caff084cf5c42962e0\n  Stored in directory: /root/.cache/pip/wheels/ec/d9/04/93be57edf3835182a8e76d8ff87f7e77a0113f473ba3721ee0\nSuccessfully built kaggle\nInstalling collected packages: webencodings, text-unidecode, tqdm, python-slugify, bleach, kaggle\nSuccessfully installed bleach-6.1.0 kaggle-1.6.14 python-slugify-8.0.4 text-unidecode-1.3 tqdm-4.66.4 webencodings-0.5.1\n\u001B[43mNote: you may need to restart the kernel using %restart_python or dbutils.library.restartPython() to use updated packages.\u001B[0m\n"
     ]
    }
   ],
   "source": [
    "# Magic commands are prefixed with a % symbol and are used to control the behavior of the notebook environment\n",
    "%pip install kaggle"
   ]
  },
  {
   "cell_type": "code",
   "execution_count": 0,
   "metadata": {
    "application/vnd.databricks.v1+cell": {
     "cellMetadata": {
      "byteLimit": 2048000,
      "rowLimit": 10000
     },
     "inputWidgets": {},
     "nuid": "a23ccfe6-9ddc-40e0-88f0-c8baa4a4f5ec",
     "showTitle": false,
     "title": ""
    }
   },
   "outputs": [],
   "source": [
    "# Import Python libraries\n",
    "import pandas as pd\n",
    "import seaborn as sns\n",
    "import matplotlib.pyplot as plt "
   ]
  },
  {
   "cell_type": "markdown",
   "metadata": {
    "application/vnd.databricks.v1+cell": {
     "cellMetadata": {
      "byteLimit": 2048000,
      "rowLimit": 10000
     },
     "inputWidgets": {},
     "nuid": "9b3007c0-271d-46ea-8408-2d832690ed05",
     "showTitle": false,
     "title": ""
    }
   },
   "source": [
    "## II. Data Manipulation and Analysis with Pandas\n",
    "Pandas is an open-source **data analysis and manipulation tool**, highly regarded for its ease of use and flexibility.\n",
    "\n",
    "Please refer to the [Pandas documentation](https://pandas.pydata.org/docs/user_guide/index.html#) to learn more about Pandas.\n"
   ]
  },
  {
   "cell_type": "markdown",
   "metadata": {
    "application/vnd.databricks.v1+cell": {
     "cellMetadata": {
      "byteLimit": 2048000,
      "rowLimit": 10000
     },
     "inputWidgets": {},
     "nuid": "59336869-0a5d-427e-9681-6d6609e6afcb",
     "showTitle": false,
     "title": ""
    }
   },
   "source": [
    "#### PySpark\n",
    "PySpark is the **Python API for Apache Spark**. It enables you to perform real-time, large-scale data processing in a distributed environment using Python. It also provides a PySpark shell for interactively analyzing your data."
   ]
  },
  {
   "cell_type": "markdown",
   "metadata": {
    "application/vnd.databricks.v1+cell": {
     "cellMetadata": {
      "byteLimit": 2048000,
      "rowLimit": 10000
     },
     "inputWidgets": {},
     "nuid": "0167e9ad-33a1-466c-9a22-8a395ab2c036",
     "showTitle": false,
     "title": ""
    }
   },
   "source": [
    "### 1. Series\n",
    "A series is a one-dimensional array holding any data type. It is like a single column in a table."
   ]
  },
  {
   "cell_type": "code",
   "execution_count": 0,
   "metadata": {
    "application/vnd.databricks.v1+cell": {
     "cellMetadata": {
      "byteLimit": 2048000,
      "rowLimit": 10000
     },
     "inputWidgets": {},
     "nuid": "9d5e8fb9-4039-49a6-a2c5-26d50e19d8d6",
     "showTitle": false,
     "title": ""
    }
   },
   "outputs": [
    {
     "output_type": "stream",
     "name": "stdout",
     "output_type": "stream",
     "text": [
      "0    1.38\n1    3.95\n2    3.46\n3    2.88\ndtype: float64\n1    3.95\n2    3.46\ndtype: float64\nThe price at index 0 is 1.38.\n1    1.38\n2    3.95\n3    3.46\n4    2.88\ndtype: float64\nThe sum of the prices is 11.669999999999998.\nThe mean of the prices is 2.9174999999999995.\nThe standard deviation of the prices is 1.1144019322787748.\n"
     ]
    }
   ],
   "source": [
    "prices = pd.Series([1.38, 3.95, 3.46, 2.88])\n",
    "print(prices)\n",
    "\n",
    "# Select only the list prices greater than 3\n",
    "print(prices[prices > 3])\n",
    "print(f\"The price at index 0 is {prices[0]}.\")\n",
    "\n",
    "prices.index = [\"1\", \"2\", \"3\", \"4\"]\n",
    "print(prices)\n",
    "\n",
    "print(f\"The sum of the prices is {prices.sum()}.\")\n",
    "print(f\"The mean of the prices is {prices.mean()}.\")\n",
    "print(f\"The standard deviation of the prices is {prices.std()}.\")"
   ]
  },
  {
   "cell_type": "markdown",
   "metadata": {
    "application/vnd.databricks.v1+cell": {
     "cellMetadata": {
      "byteLimit": 2048000,
      "rowLimit": 10000
     },
     "inputWidgets": {},
     "nuid": "f3df8770-4e88-480b-9c28-9b55556518f5",
     "showTitle": false,
     "title": ""
    }
   },
   "source": [
    "### 2. DataFrames\n",
    "A DataFrame is a two-dimensional data structure that is like a table with **rows** and **columns**."
   ]
  },
  {
   "cell_type": "code",
   "execution_count": 0,
   "metadata": {
    "application/vnd.databricks.v1+cell": {
     "cellMetadata": {
      "byteLimit": 2048000,
      "rowLimit": 10000
     },
     "inputWidgets": {},
     "nuid": "057df493-1452-4c92-8eb0-f552b1a96fab",
     "showTitle": false,
     "title": ""
    }
   },
   "outputs": [
    {
     "output_type": "stream",
     "name": "stdout",
     "output_type": "stream",
     "text": [
      "(1017209, 9)\n"
     ]
    }
   ],
   "source": [
    "# Read the table from the CSV (comma-separated values) file in Unity Catalog \n",
    "df = spark.read.format(\"csv\").option(\"delimiter\", \",\").table(\"hive_metastore.default.rossmann_stores_data\")\n",
    "\n",
    "# Convert Spark DataFrame to Pandas DataFrame\n",
    "df = df.toPandas()\n",
    "\n",
    "# Count the number of rows and columns\n",
    "print(df.shape)"
   ]
  },
  {
   "cell_type": "code",
   "execution_count": 0,
   "metadata": {
    "application/vnd.databricks.v1+cell": {
     "cellMetadata": {
      "byteLimit": 2048000,
      "rowLimit": 10000
     },
     "inputWidgets": {},
     "nuid": "7d3e8c60-90c3-4baf-8412-bccd5e031b53",
     "showTitle": false,
     "title": ""
    }
   },
   "outputs": [
    {
     "output_type": "execute_result",
     "data": {
      "text/html": [
       "<div>\n",
       "<style scoped>\n",
       "    .dataframe tbody tr th:only-of-type {\n",
       "        vertical-align: middle;\n",
       "    }\n",
       "\n",
       "    .dataframe tbody tr th {\n",
       "        vertical-align: top;\n",
       "    }\n",
       "\n",
       "    .dataframe thead th {\n",
       "        text-align: right;\n",
       "    }\n",
       "</style>\n",
       "<table border=\"1\" class=\"dataframe\">\n",
       "  <thead>\n",
       "    <tr style=\"text-align: right;\">\n",
       "      <th></th>\n",
       "      <th>Store</th>\n",
       "      <th>DayOfWeek</th>\n",
       "      <th>Date</th>\n",
       "      <th>Sales</th>\n",
       "      <th>Customers</th>\n",
       "      <th>Open</th>\n",
       "      <th>Promo</th>\n",
       "      <th>StateHoliday</th>\n",
       "      <th>SchoolHoliday</th>\n",
       "    </tr>\n",
       "  </thead>\n",
       "  <tbody>\n",
       "    <tr>\n",
       "      <th>0</th>\n",
       "      <td>479</td>\n",
       "      <td>4</td>\n",
       "      <td>2014-02-06</td>\n",
       "      <td>12918</td>\n",
       "      <td>1420</td>\n",
       "      <td>1</td>\n",
       "      <td>1</td>\n",
       "      <td>0</td>\n",
       "      <td>1</td>\n",
       "    </tr>\n",
       "    <tr>\n",
       "      <th>1</th>\n",
       "      <td>480</td>\n",
       "      <td>4</td>\n",
       "      <td>2014-02-06</td>\n",
       "      <td>5558</td>\n",
       "      <td>684</td>\n",
       "      <td>1</td>\n",
       "      <td>1</td>\n",
       "      <td>0</td>\n",
       "      <td>1</td>\n",
       "    </tr>\n",
       "    <tr>\n",
       "      <th>2</th>\n",
       "      <td>481</td>\n",
       "      <td>4</td>\n",
       "      <td>2014-02-06</td>\n",
       "      <td>6687</td>\n",
       "      <td>578</td>\n",
       "      <td>1</td>\n",
       "      <td>1</td>\n",
       "      <td>0</td>\n",
       "      <td>0</td>\n",
       "    </tr>\n",
       "    <tr>\n",
       "      <th>3</th>\n",
       "      <td>482</td>\n",
       "      <td>4</td>\n",
       "      <td>2014-02-06</td>\n",
       "      <td>7543</td>\n",
       "      <td>866</td>\n",
       "      <td>1</td>\n",
       "      <td>1</td>\n",
       "      <td>0</td>\n",
       "      <td>1</td>\n",
       "    </tr>\n",
       "    <tr>\n",
       "      <th>4</th>\n",
       "      <td>483</td>\n",
       "      <td>4</td>\n",
       "      <td>2014-02-06</td>\n",
       "      <td>5645</td>\n",
       "      <td>764</td>\n",
       "      <td>1</td>\n",
       "      <td>1</td>\n",
       "      <td>0</td>\n",
       "      <td>1</td>\n",
       "    </tr>\n",
       "  </tbody>\n",
       "</table>\n",
       "</div>"
      ],
      "text/plain": [
       "   Store  DayOfWeek        Date  Sales  ...  Open  Promo  StateHoliday SchoolHoliday\n",
       "0    479          4  2014-02-06  12918  ...     1      1             0             1\n",
       "1    480          4  2014-02-06   5558  ...     1      1             0             1\n",
       "2    481          4  2014-02-06   6687  ...     1      1             0             0\n",
       "3    482          4  2014-02-06   7543  ...     1      1             0             1\n",
       "4    483          4  2014-02-06   5645  ...     1      1             0             1\n",
       "\n",
       "[5 rows x 9 columns]"
      ]
     },
     "execution_count": 26,
     "metadata": {},
     "output_type": "execute_result"
    }
   ],
   "source": [
    "# Display the first 5 (default) rows of the DataFrame\n",
    "df.head()"
   ]
  },
  {
   "cell_type": "code",
   "execution_count": 0,
   "metadata": {
    "application/vnd.databricks.v1+cell": {
     "cellMetadata": {
      "byteLimit": 2048000,
      "rowLimit": 10000
     },
     "inputWidgets": {},
     "nuid": "cc907b64-0b11-4304-babd-598970e450cf",
     "showTitle": false,
     "title": ""
    }
   },
   "outputs": [
    {
     "output_type": "execute_result",
     "data": {
      "text/html": [
       "<div>\n",
       "<style scoped>\n",
       "    .dataframe tbody tr th:only-of-type {\n",
       "        vertical-align: middle;\n",
       "    }\n",
       "\n",
       "    .dataframe tbody tr th {\n",
       "        vertical-align: top;\n",
       "    }\n",
       "\n",
       "    .dataframe thead th {\n",
       "        text-align: right;\n",
       "    }\n",
       "</style>\n",
       "<table border=\"1\" class=\"dataframe\">\n",
       "  <thead>\n",
       "    <tr style=\"text-align: right;\">\n",
       "      <th></th>\n",
       "      <th>Store</th>\n",
       "      <th>DayOfWeek</th>\n",
       "      <th>Date</th>\n",
       "      <th>Sales</th>\n",
       "      <th>Customers</th>\n",
       "      <th>Open</th>\n",
       "      <th>Promo</th>\n",
       "      <th>StateHoliday</th>\n",
       "      <th>SchoolHoliday</th>\n",
       "    </tr>\n",
       "  </thead>\n",
       "  <tbody>\n",
       "    <tr>\n",
       "      <th>1017204</th>\n",
       "      <td>1111</td>\n",
       "      <td>2</td>\n",
       "      <td>2013-01-01</td>\n",
       "      <td>0</td>\n",
       "      <td>0</td>\n",
       "      <td>0</td>\n",
       "      <td>0</td>\n",
       "      <td>a</td>\n",
       "      <td>1</td>\n",
       "    </tr>\n",
       "    <tr>\n",
       "      <th>1017205</th>\n",
       "      <td>1112</td>\n",
       "      <td>2</td>\n",
       "      <td>2013-01-01</td>\n",
       "      <td>0</td>\n",
       "      <td>0</td>\n",
       "      <td>0</td>\n",
       "      <td>0</td>\n",
       "      <td>a</td>\n",
       "      <td>1</td>\n",
       "    </tr>\n",
       "    <tr>\n",
       "      <th>1017206</th>\n",
       "      <td>1113</td>\n",
       "      <td>2</td>\n",
       "      <td>2013-01-01</td>\n",
       "      <td>0</td>\n",
       "      <td>0</td>\n",
       "      <td>0</td>\n",
       "      <td>0</td>\n",
       "      <td>a</td>\n",
       "      <td>1</td>\n",
       "    </tr>\n",
       "    <tr>\n",
       "      <th>1017207</th>\n",
       "      <td>1114</td>\n",
       "      <td>2</td>\n",
       "      <td>2013-01-01</td>\n",
       "      <td>0</td>\n",
       "      <td>0</td>\n",
       "      <td>0</td>\n",
       "      <td>0</td>\n",
       "      <td>a</td>\n",
       "      <td>1</td>\n",
       "    </tr>\n",
       "    <tr>\n",
       "      <th>1017208</th>\n",
       "      <td>1115</td>\n",
       "      <td>2</td>\n",
       "      <td>2013-01-01</td>\n",
       "      <td>0</td>\n",
       "      <td>0</td>\n",
       "      <td>0</td>\n",
       "      <td>0</td>\n",
       "      <td>a</td>\n",
       "      <td>1</td>\n",
       "    </tr>\n",
       "  </tbody>\n",
       "</table>\n",
       "</div>"
      ],
      "text/plain": [
       "         Store  DayOfWeek        Date  ...  Promo  StateHoliday  SchoolHoliday\n",
       "1017204   1111          2  2013-01-01  ...      0             a              1\n",
       "1017205   1112          2  2013-01-01  ...      0             a              1\n",
       "1017206   1113          2  2013-01-01  ...      0             a              1\n",
       "1017207   1114          2  2013-01-01  ...      0             a              1\n",
       "1017208   1115          2  2013-01-01  ...      0             a              1\n",
       "\n",
       "[5 rows x 9 columns]"
      ]
     },
     "execution_count": 27,
     "metadata": {},
     "output_type": "execute_result"
    }
   ],
   "source": [
    "# Display the last 5 (default) rows of the DataFrame\n",
    "df.tail()"
   ]
  },
  {
   "cell_type": "code",
   "execution_count": 0,
   "metadata": {
    "application/vnd.databricks.v1+cell": {
     "cellMetadata": {
      "byteLimit": 2048000,
      "rowLimit": 10000
     },
     "inputWidgets": {},
     "nuid": "0003b4c2-8196-4a7d-b221-14c687ab466e",
     "showTitle": false,
     "title": ""
    }
   },
   "outputs": [
    {
     "output_type": "stream",
     "name": "stdout",
     "output_type": "stream",
     "text": [
      "  Store  DayOfWeek\n0   479          4\n1   480          4\n  Store  DayOfWeek\n0   479          4\n1   480          4\n1115\n['0' 'a' 'c' 'b']\n"
     ]
    }
   ],
   "source": [
    "# Select the first two columns of the first two rows by position\n",
    "print(df.iloc[0:2, 0:2])\n",
    "\n",
    "# Select the first two columns of the first two rows by index\n",
    "print(df.loc[0:1, ['Store', 'DayOfWeek']])\n",
    "\n",
    "# Select the specific column value of a specific row\n",
    "print(df['Store'][1017208])\n",
    "\n",
    "# Print all the unique values of a specific column\n",
    "print(df['StateHoliday'].unique())\n",
    "\n",
    "# Change the Store value of the record at index 1017208\n",
    "df.loc[1017208, 'Store'] = '1115'"
   ]
  },
  {
   "cell_type": "code",
   "execution_count": 0,
   "metadata": {
    "application/vnd.databricks.v1+cell": {
     "cellMetadata": {
      "byteLimit": 2048000,
      "rowLimit": 10000
     },
     "inputWidgets": {},
     "nuid": "6305283c-9c99-4975-9f90-f72b9cb28927",
     "showTitle": false,
     "title": ""
    }
   },
   "outputs": [],
   "source": [
    "# Print duplicate rows, if any, otherwise this will not print anything\n",
    "for duplicate in df.duplicated():\n",
    "    if duplicate is True:\n",
    "        print(duplicate)\n",
    "\n",
    "# Drop all duplicate rows, if any\n",
    "df.drop_duplicates(inplace = True)"
   ]
  },
  {
   "cell_type": "code",
   "execution_count": 0,
   "metadata": {
    "application/vnd.databricks.v1+cell": {
     "cellMetadata": {
      "byteLimit": 2048000,
      "rowLimit": 10000
     },
     "inputWidgets": {},
     "nuid": "b4679894-f218-4011-a421-2c8a66f9bb0b",
     "showTitle": false,
     "title": ""
    }
   },
   "outputs": [
    {
     "output_type": "stream",
     "name": "stdout",
     "output_type": "stream",
     "text": [
      "<class 'pandas.core.frame.DataFrame'>\nInt64Index: 1017209 entries, 0 to 1017208\nData columns (total 9 columns):\n #   Column         Non-Null Count    Dtype \n---  ------         --------------    ----- \n 0   Store          1017209 non-null  object\n 1   DayOfWeek      1017209 non-null  int64 \n 2   Date           1017209 non-null  object\n 3   Sales          1017209 non-null  int64 \n 4   Customers      1017209 non-null  int64 \n 5   Open           1017209 non-null  int64 \n 6   Promo          1017209 non-null  int64 \n 7   StateHoliday   1017209 non-null  object\n 8   SchoolHoliday  1017209 non-null  int64 \ndtypes: int64(6), object(3)\nmemory usage: 77.6+ MB\n"
     ]
    }
   ],
   "source": [
    "# Generate a concise summary of the DataFrame\n",
    "df.info()"
   ]
  },
  {
   "cell_type": "code",
   "execution_count": 0,
   "metadata": {
    "application/vnd.databricks.v1+cell": {
     "cellMetadata": {
      "byteLimit": 2048000,
      "rowLimit": 10000
     },
     "inputWidgets": {},
     "nuid": "8398aea1-c426-4ec1-90fd-4f55c6674607",
     "showTitle": false,
     "title": ""
    }
   },
   "outputs": [],
   "source": [
    "# Fill in null values with zeroes (both 'null' strings and NaNs) and cast columns into floats\n",
    "object_to_float_columns = ['Sales']\n",
    "df[object_to_float_columns] = df[object_to_float_columns].replace('null', 0).fillna(0).astype(int)\n",
    "\n",
    "# Drop rows with null and cast columns into strings/objects\n",
    "int_to_object_columns = ['Store']\n",
    "df[int_to_object_columns] = df[int_to_object_columns].dropna().astype(str)"
   ]
  },
  {
   "cell_type": "code",
   "execution_count": 0,
   "metadata": {
    "application/vnd.databricks.v1+cell": {
     "cellMetadata": {
      "byteLimit": 2048000,
      "rowLimit": 10000
     },
     "inputWidgets": {},
     "nuid": "257c32a0-2794-4842-9c8c-8b51c69345e6",
     "showTitle": false,
     "title": ""
    }
   },
   "outputs": [
    {
     "output_type": "stream",
     "name": "stdout",
     "output_type": "stream",
     "text": [
      "Categorical Columns:\n['Store', 'Date', 'StateHoliday']\nNumerical Columns:\n['DayOfWeek', 'Sales', 'Customers', 'Open', 'Promo', 'SchoolHoliday']\n"
     ]
    }
   ],
   "source": [
    "# Identify the categorical and numerical columns\n",
    "categorical_columns = df.select_dtypes(include=['object']).columns.tolist()\n",
    "numerical_columns = df.select_dtypes(include=['int64','float64']).columns.tolist()\n",
    "print(\"Categorical Columns:\")\n",
    "print(categorical_columns)\n",
    "print(\"Numerical Columns:\")\n",
    "print(numerical_columns)"
   ]
  },
  {
   "cell_type": "code",
   "execution_count": 0,
   "metadata": {
    "application/vnd.databricks.v1+cell": {
     "cellMetadata": {
      "byteLimit": 2048000,
      "rowLimit": 10000
     },
     "inputWidgets": {},
     "nuid": "c63eae12-5579-4cf5-a3c6-ab64ca232ee1",
     "showTitle": false,
     "title": ""
    }
   },
   "outputs": [
    {
     "output_type": "execute_result",
     "data": {
      "text/html": [
       "<div>\n",
       "<style scoped>\n",
       "    .dataframe tbody tr th:only-of-type {\n",
       "        vertical-align: middle;\n",
       "    }\n",
       "\n",
       "    .dataframe tbody tr th {\n",
       "        vertical-align: top;\n",
       "    }\n",
       "\n",
       "    .dataframe thead th {\n",
       "        text-align: right;\n",
       "    }\n",
       "</style>\n",
       "<table border=\"1\" class=\"dataframe\">\n",
       "  <thead>\n",
       "    <tr style=\"text-align: right;\">\n",
       "      <th></th>\n",
       "      <th>DayOfWeek</th>\n",
       "      <th>Sales</th>\n",
       "      <th>Customers</th>\n",
       "      <th>Open</th>\n",
       "      <th>Promo</th>\n",
       "      <th>SchoolHoliday</th>\n",
       "    </tr>\n",
       "  </thead>\n",
       "  <tbody>\n",
       "    <tr>\n",
       "      <th>count</th>\n",
       "      <td>1.017209e+06</td>\n",
       "      <td>1.017209e+06</td>\n",
       "      <td>1.017209e+06</td>\n",
       "      <td>1.017209e+06</td>\n",
       "      <td>1.017209e+06</td>\n",
       "      <td>1.017209e+06</td>\n",
       "    </tr>\n",
       "    <tr>\n",
       "      <th>mean</th>\n",
       "      <td>3.998341e+00</td>\n",
       "      <td>5.773819e+03</td>\n",
       "      <td>6.331459e+02</td>\n",
       "      <td>8.301067e-01</td>\n",
       "      <td>3.815145e-01</td>\n",
       "      <td>1.786467e-01</td>\n",
       "    </tr>\n",
       "    <tr>\n",
       "      <th>std</th>\n",
       "      <td>1.997391e+00</td>\n",
       "      <td>3.849926e+03</td>\n",
       "      <td>4.644117e+02</td>\n",
       "      <td>3.755392e-01</td>\n",
       "      <td>4.857586e-01</td>\n",
       "      <td>3.830564e-01</td>\n",
       "    </tr>\n",
       "    <tr>\n",
       "      <th>min</th>\n",
       "      <td>1.000000e+00</td>\n",
       "      <td>0.000000e+00</td>\n",
       "      <td>0.000000e+00</td>\n",
       "      <td>0.000000e+00</td>\n",
       "      <td>0.000000e+00</td>\n",
       "      <td>0.000000e+00</td>\n",
       "    </tr>\n",
       "    <tr>\n",
       "      <th>25%</th>\n",
       "      <td>2.000000e+00</td>\n",
       "      <td>3.727000e+03</td>\n",
       "      <td>4.050000e+02</td>\n",
       "      <td>1.000000e+00</td>\n",
       "      <td>0.000000e+00</td>\n",
       "      <td>0.000000e+00</td>\n",
       "    </tr>\n",
       "    <tr>\n",
       "      <th>50%</th>\n",
       "      <td>4.000000e+00</td>\n",
       "      <td>5.744000e+03</td>\n",
       "      <td>6.090000e+02</td>\n",
       "      <td>1.000000e+00</td>\n",
       "      <td>0.000000e+00</td>\n",
       "      <td>0.000000e+00</td>\n",
       "    </tr>\n",
       "    <tr>\n",
       "      <th>75%</th>\n",
       "      <td>6.000000e+00</td>\n",
       "      <td>7.856000e+03</td>\n",
       "      <td>8.370000e+02</td>\n",
       "      <td>1.000000e+00</td>\n",
       "      <td>1.000000e+00</td>\n",
       "      <td>0.000000e+00</td>\n",
       "    </tr>\n",
       "    <tr>\n",
       "      <th>max</th>\n",
       "      <td>7.000000e+00</td>\n",
       "      <td>4.155100e+04</td>\n",
       "      <td>7.388000e+03</td>\n",
       "      <td>1.000000e+00</td>\n",
       "      <td>1.000000e+00</td>\n",
       "      <td>1.000000e+00</td>\n",
       "    </tr>\n",
       "  </tbody>\n",
       "</table>\n",
       "</div>"
      ],
      "text/plain": [
       "          DayOfWeek         Sales  ...         Promo  SchoolHoliday\n",
       "count  1.017209e+06  1.017209e+06  ...  1.017209e+06   1.017209e+06\n",
       "mean   3.998341e+00  5.773819e+03  ...  3.815145e-01   1.786467e-01\n",
       "std    1.997391e+00  3.849926e+03  ...  4.857586e-01   3.830564e-01\n",
       "min    1.000000e+00  0.000000e+00  ...  0.000000e+00   0.000000e+00\n",
       "25%    2.000000e+00  3.727000e+03  ...  0.000000e+00   0.000000e+00\n",
       "50%    4.000000e+00  5.744000e+03  ...  0.000000e+00   0.000000e+00\n",
       "75%    6.000000e+00  7.856000e+03  ...  1.000000e+00   0.000000e+00\n",
       "max    7.000000e+00  4.155100e+04  ...  1.000000e+00   1.000000e+00\n",
       "\n",
       "[8 rows x 6 columns]"
      ]
     },
     "execution_count": 37,
     "metadata": {},
     "output_type": "execute_result"
    }
   ],
   "source": [
    "# Generate descriptive statistics of the numerical data\n",
    "df.describe()"
   ]
  },
  {
   "cell_type": "code",
   "execution_count": 0,
   "metadata": {
    "application/vnd.databricks.v1+cell": {
     "cellMetadata": {
      "byteLimit": 2048000,
      "rowLimit": 10000
     },
     "inputWidgets": {},
     "nuid": "5eaa61f4-4dc8-4a0d-9eb9-5e19be83819d",
     "showTitle": false,
     "title": ""
    }
   },
   "outputs": [
    {
     "output_type": "stream",
     "name": "stdout",
     "output_type": "stream",
     "text": [
      "State Holiday: 0\n        Store  DayOfWeek        Date  ...  Promo  StateHoliday  SchoolHoliday\n0         479          4  2014-02-06  ...      1             0              1\n1         480          4  2014-02-06  ...      1             0              1\n2         481          4  2014-02-06  ...      1             0              0\n3         482          4  2014-02-06  ...      1             0              1\n4         483          4  2014-02-06  ...      1             0              1\n...       ...        ...         ...  ...    ...           ...            ...\n1016090  1111          3  2013-01-02  ...      0             0              1\n1016091  1112          3  2013-01-02  ...      0             0              1\n1016092  1113          3  2013-01-02  ...      0             0              1\n1016093  1114          3  2013-01-02  ...      0             0              1\n1016094  1115          3  2013-01-02  ...      0             0              1\n\n[986159 rows x 9 columns]\nState Holiday: a\n        Store  DayOfWeek        Date  ...  Promo  StateHoliday  SchoolHoliday\n34099      13          1  2014-01-06  ...      1             a              0\n34102      16          1  2014-01-06  ...      1             a              0\n34106      20          1  2014-01-06  ...      1             a              0\n34107      21          1  2014-01-06  ...      1             a              0\n34108      22          1  2014-01-06  ...      1             a              0\n...       ...        ...         ...  ...    ...           ...            ...\n1017204  1111          2  2013-01-01  ...      0             a              1\n1017205  1112          2  2013-01-01  ...      0             a              1\n1017206  1113          2  2013-01-01  ...      0             a              1\n1017207  1114          2  2013-01-01  ...      0             a              1\n1017208  1115          2  2013-01-01  ...      0             a              1\n\n[20260 rows x 9 columns]\nState Holiday: b\n       Store  DayOfWeek        Date  ...  Promo  StateHoliday  SchoolHoliday\n413724     1          1  2015-04-06  ...      0             b              1\n413725     2          1  2015-04-06  ...      0             b              1\n413726     3          1  2015-04-06  ...      0             b              1\n413727     4          1  2015-04-06  ...      0             b              1\n413728     5          1  2015-04-06  ...      0             b              1\n...      ...        ...         ...  ...    ...           ...            ...\n920200  1111          5  2013-03-29  ...      1             b              1\n920201  1112          5  2013-03-29  ...      1             b              1\n920202  1113          5  2013-03-29  ...      1             b              1\n920203  1114          5  2013-03-29  ...      1             b              0\n920204  1115          5  2013-03-29  ...      1             b              1\n\n[6690 rows x 9 columns]\nState Holiday: c\n       Store  DayOfWeek        Date  ...  Promo  StateHoliday  SchoolHoliday\n46352      1          4  2013-12-26  ...      0             c              1\n46353      2          4  2013-12-26  ...      0             c              1\n46354      3          4  2013-12-26  ...      0             c              1\n46355      4          4  2013-12-26  ...      0             c              1\n46356      5          4  2013-12-26  ...      0             c              1\n...      ...        ...         ...  ...    ...           ...            ...\n527304  1111          4  2014-12-25  ...      0             c              1\n527305  1112          4  2014-12-25  ...      0             c              1\n527306  1113          4  2014-12-25  ...      0             c              1\n527307  1114          4  2014-12-25  ...      0             c              1\n527308  1115          4  2014-12-25  ...      0             c              1\n\n[4100 rows x 9 columns]\n"
     ]
    }
   ],
   "source": [
    "# Group the DataFrame by a specific column\n",
    "state_groups = df.groupby('StateHoliday')\n",
    "for state, group in state_groups:\n",
    "    print(f\"State Holiday: {state}\")\n",
    "    print(group, end=\"\\n\")"
   ]
  },
  {
   "cell_type": "markdown",
   "metadata": {
    "application/vnd.databricks.v1+cell": {
     "cellMetadata": {
      "byteLimit": 2048000,
      "rowLimit": 10000
     },
     "inputWidgets": {},
     "nuid": "405b9982-8815-4f4a-b430-40d500a0baf8",
     "showTitle": false,
     "title": ""
    }
   },
   "source": [
    "#### Correlation\n",
    "In data science, correlation is a statistical measure that quantifies **the degree to which two variables are related**. It indicates the strength and direction of a linear relationship between pairs of variables.\n",
    "A correlation of 1 means that there is a 1-to-1 relationship or a perfect correlation.\n",
    "\n",
    "- **Positive Correlation**: When one variable increases, the other tends to increase as well.\n",
    "\n",
    "- **Negative Correlation**: When one variable increases, the other tends to decrease.\n",
    "\n",
    "- **No Correlation**: Changes in one variable does not predict any particular change in the other."
   ]
  },
  {
   "cell_type": "code",
   "execution_count": 0,
   "metadata": {
    "application/vnd.databricks.v1+cell": {
     "cellMetadata": {
      "byteLimit": 2048000,
      "rowLimit": 10000
     },
     "inputWidgets": {},
     "nuid": "36409bd1-b4f2-4cd6-bd1f-3143fb177e7f",
     "showTitle": false,
     "title": ""
    }
   },
   "outputs": [
    {
     "output_type": "stream",
     "name": "stderr",
     "output_type": "stream",
     "text": [
      "/root/.ipykernel/5027/command-3182653257508907-2973860670:2: FutureWarning: The default value of numeric_only in DataFrame.corr is deprecated. In a future version, it will default to False. Select only valid columns or specify the value of numeric_only to silence this warning.\n  df.corr()\n"
     ]
    },
    {
     "output_type": "execute_result",
     "data": {
      "text/html": [
       "<div>\n",
       "<style scoped>\n",
       "    .dataframe tbody tr th:only-of-type {\n",
       "        vertical-align: middle;\n",
       "    }\n",
       "\n",
       "    .dataframe tbody tr th {\n",
       "        vertical-align: top;\n",
       "    }\n",
       "\n",
       "    .dataframe thead th {\n",
       "        text-align: right;\n",
       "    }\n",
       "</style>\n",
       "<table border=\"1\" class=\"dataframe\">\n",
       "  <thead>\n",
       "    <tr style=\"text-align: right;\">\n",
       "      <th></th>\n",
       "      <th>DayOfWeek</th>\n",
       "      <th>Sales</th>\n",
       "      <th>Customers</th>\n",
       "      <th>Open</th>\n",
       "      <th>Promo</th>\n",
       "      <th>SchoolHoliday</th>\n",
       "    </tr>\n",
       "  </thead>\n",
       "  <tbody>\n",
       "    <tr>\n",
       "      <th>DayOfWeek</th>\n",
       "      <td>1.000000</td>\n",
       "      <td>-0.462125</td>\n",
       "      <td>-0.386445</td>\n",
       "      <td>-0.528963</td>\n",
       "      <td>-0.392925</td>\n",
       "      <td>-0.205388</td>\n",
       "    </tr>\n",
       "    <tr>\n",
       "      <th>Sales</th>\n",
       "      <td>-0.462125</td>\n",
       "      <td>1.000000</td>\n",
       "      <td>0.894711</td>\n",
       "      <td>0.678472</td>\n",
       "      <td>0.452345</td>\n",
       "      <td>0.085124</td>\n",
       "    </tr>\n",
       "    <tr>\n",
       "      <th>Customers</th>\n",
       "      <td>-0.386445</td>\n",
       "      <td>0.894711</td>\n",
       "      <td>1.000000</td>\n",
       "      <td>0.616768</td>\n",
       "      <td>0.316169</td>\n",
       "      <td>0.071568</td>\n",
       "    </tr>\n",
       "    <tr>\n",
       "      <th>Open</th>\n",
       "      <td>-0.528963</td>\n",
       "      <td>0.678472</td>\n",
       "      <td>0.616768</td>\n",
       "      <td>1.000000</td>\n",
       "      <td>0.295042</td>\n",
       "      <td>0.086171</td>\n",
       "    </tr>\n",
       "    <tr>\n",
       "      <th>Promo</th>\n",
       "      <td>-0.392925</td>\n",
       "      <td>0.452345</td>\n",
       "      <td>0.316169</td>\n",
       "      <td>0.295042</td>\n",
       "      <td>1.000000</td>\n",
       "      <td>0.067483</td>\n",
       "    </tr>\n",
       "    <tr>\n",
       "      <th>SchoolHoliday</th>\n",
       "      <td>-0.205388</td>\n",
       "      <td>0.085124</td>\n",
       "      <td>0.071568</td>\n",
       "      <td>0.086171</td>\n",
       "      <td>0.067483</td>\n",
       "      <td>1.000000</td>\n",
       "    </tr>\n",
       "  </tbody>\n",
       "</table>\n",
       "</div>"
      ],
      "text/plain": [
       "               DayOfWeek     Sales  ...     Promo  SchoolHoliday\n",
       "DayOfWeek       1.000000 -0.462125  ... -0.392925      -0.205388\n",
       "Sales          -0.462125  1.000000  ...  0.452345       0.085124\n",
       "Customers      -0.386445  0.894711  ...  0.316169       0.071568\n",
       "Open           -0.528963  0.678472  ...  0.295042       0.086171\n",
       "Promo          -0.392925  0.452345  ...  1.000000       0.067483\n",
       "SchoolHoliday  -0.205388  0.085124  ...  0.067483       1.000000\n",
       "\n",
       "[6 rows x 6 columns]"
      ]
     },
     "execution_count": 41,
     "metadata": {},
     "output_type": "execute_result"
    }
   ],
   "source": [
    "# Calculate the relationship between each numerical column in your dataset\n",
    "df.corr()"
   ]
  },
  {
   "cell_type": "markdown",
   "metadata": {
    "application/vnd.databricks.v1+cell": {
     "cellMetadata": {
      "byteLimit": 2048000,
      "rowLimit": 10000
     },
     "inputWidgets": {},
     "nuid": "d1cea186-4f5d-4e82-9617-b68bed932c1f",
     "showTitle": false,
     "title": ""
    }
   },
   "source": [
    "# III. Data Visualization with Matplotlib and Seaborn\n"
   ]
  },
  {
   "cell_type": "markdown",
   "metadata": {
    "application/vnd.databricks.v1+cell": {
     "cellMetadata": {
      "byteLimit": 2048000,
      "rowLimit": 10000
     },
     "inputWidgets": {},
     "nuid": "5e4eaa0a-6d4b-4403-993f-00c3520f73da",
     "showTitle": false,
     "title": ""
    }
   },
   "source": [
    "Matplotlib is a comprehensive library for creating static, animated, and interactive **visualizations** in Python. Seaborn is a Python data visualization library based on matplotlib. It provides a high-level interface for drawing attractive and informative **statistical graphics**.\n",
    "\n",
    "Please refer to the [Matplotlib documentation](https://matplotlib.org/stable/users/index) and the [Seaborn documentation](https://seaborn.pydata.org/tutorial.html) to learn more about Matplotlib and Seaborn."
   ]
  },
  {
   "cell_type": "markdown",
   "metadata": {
    "application/vnd.databricks.v1+cell": {
     "cellMetadata": {
      "byteLimit": 2048000,
      "rowLimit": 10000
     },
     "inputWidgets": {},
     "nuid": "74962599-5689-4c64-88b5-62e5b99584ae",
     "showTitle": false,
     "title": ""
    }
   },
   "source": [
    "### 1. Univariate Analysis\n",
    "Univariate analysis is used to analyze **a single variable** at a time."
   ]
  },
  {
   "cell_type": "code",
   "execution_count": 0,
   "metadata": {
    "application/vnd.databricks.v1+cell": {
     "cellMetadata": {
      "byteLimit": 2048000,
      "rowLimit": 10000
     },
     "inputWidgets": {},
     "nuid": "392de174-0188-43c6-8d1e-c08aa7252b79",
     "showTitle": false,
     "title": ""
    }
   },
   "outputs": [
    {
     "output_type": "display_data",
     "data": {
      "image/png": "[encoded data removed]",
      "text/plain": [
       "<Figure size 640x480 with 1 Axes>"
      ]
     },
     "metadata": {},
     "output_type": "display_data"
    }
   ],
   "source": [
    "# Iterate over each specified column in the DataFrame and plot a histogram for each column\n",
    "# bins=2: Divide the data into 2 bins (intervals) for the histogram\n",
    "# density=True: Normalize the histogram so that the area under the histogram equals 1\n",
    "# alpha=0.5: Set the transparency level of the histogram bars (0 is fully transparent, 1 is fully opaque)\n",
    "\n",
    "for col in ['Sales','Customers']:\n",
    "    plt.hist(df[col], bins=2, density=True, alpha=0.5)"
   ]
  },
  {
   "cell_type": "code",
   "execution_count": 0,
   "metadata": {
    "application/vnd.databricks.v1+cell": {
     "cellMetadata": {
      "byteLimit": 2048000,
      "rowLimit": 10000
     },
     "inputWidgets": {},
     "nuid": "0c5f503c-322a-471b-b80f-69f59e9fbb2d",
     "showTitle": false,
     "title": ""
    }
   },
   "outputs": [
    {
     "output_type": "execute_result",
     "data": {
      "text/plain": [
       "Text(0.5, 1.0, 'Bar Plot for State Holidays')"
      ]
     },
     "execution_count": 46,
     "metadata": {},
     "output_type": "execute_result"
    },
    {
     "output_type": "display_data",
     "data": {
      "image/png": "[encoded data removed]",
      "text/plain": [
       "<Figure size 640x480 with 1 Axes>"
      ]
     },
     "metadata": {},
     "output_type": "display_data"
    }
   ],
   "source": [
    "# Create a bar plot for a categorical column in the dataset\n",
    "sns.countplot(x='StateHoliday', data=df, color='blue', order=df['StateHoliday'].value_counts().index)\n",
    "# Rotate the x-axis labels by 45 degrees to prevent overlapping\n",
    "plt.xticks(rotation=45)\n",
    "# Set the title for the plot\n",
    "plt.title('Bar Plot for State Holidays')"
   ]
  },
  {
   "cell_type": "markdown",
   "metadata": {
    "application/vnd.databricks.v1+cell": {
     "cellMetadata": {
      "byteLimit": 2048000,
      "rowLimit": 10000
     },
     "inputWidgets": {},
     "nuid": "8bd3e583-4d18-4f78-9edf-8ddbbc61acef",
     "showTitle": false,
     "title": ""
    }
   },
   "source": [
    "### 2. Multivariate Analysis\n",
    "Multivariate analysis allows us to explore the relationships between **multiple variables**."
   ]
  },
  {
   "cell_type": "code",
   "execution_count": 0,
   "metadata": {
    "application/vnd.databricks.v1+cell": {
     "cellMetadata": {
      "byteLimit": 2048000,
      "rowLimit": 10000
     },
     "inputWidgets": {},
     "nuid": "9449ad43-e498-44f5-b1a5-e12d5fc02915",
     "showTitle": false,
     "title": ""
    }
   },
   "outputs": [
    {
     "output_type": "execute_result",
     "data": {
      "text/plain": [
       "<Axes: xlabel='StateHoliday'>"
      ]
     },
     "execution_count": 47,
     "metadata": {},
     "output_type": "execute_result"
    },
    {
     "output_type": "display_data",
     "data": {
      "image/png": "[encoded data removed]",
      "text/plain": [
       "<Figure size 1000x500 with 1 Axes>"
      ]
     },
     "metadata": {},
     "output_type": "display_data"
    }
   ],
   "source": [
    "# Create a figure with a single subplot and set the figure size to 10 inches by 5 inches\n",
    "fig, axis = plt.subplots(figsize=(10, 5))\n",
    "\n",
    "# Group the DataFrame by one categorical column then calculate the mean of one numerical column for each group,\n",
    "# Sort the values in descending order and create a bar plot in the subplot\n",
    "df.groupby('StateHoliday')['Sales'].mean().sort_values(ascending=False).plot.bar(ax=axis, fontsize=12)\n"
   ]
  },
  {
   "cell_type": "code",
   "execution_count": 0,
   "metadata": {
    "application/vnd.databricks.v1+cell": {
     "cellMetadata": {
      "byteLimit": 2048000,
      "rowLimit": 10000
     },
     "inputWidgets": {},
     "nuid": "5f3f53a9-c8a3-48a3-a202-99892e5c8944",
     "showTitle": false,
     "title": ""
    }
   },
   "outputs": [
    {
     "output_type": "stream",
     "name": "stderr",
     "output_type": "stream",
     "text": [
      "/databricks/python/lib/python3.11/site-packages/seaborn/axisgrid.py:118: UserWarning: The figure layout has changed to tight\n  self._figure.tight_layout(*args, **kwargs)\n"
     ]
    },
    {
     "output_type": "display_data",
     "data": {
      "text/plain": [
       "<Figure size 1300x1700 with 0 Axes>"
      ]
     },
     "metadata": {},
     "output_type": "display_data"
    },
    {
     "output_type": "display_data",
     "data": {
      "image/png": "[encoded data removed]",
      "text/plain": [
       "<Figure size 500x500 with 6 Axes>"
      ]
     },
     "metadata": {},
     "output_type": "display_data"
    }
   ],
   "source": [
    "# Set the figure size to 13 inches by 17 inches\n",
    "plt.figure(figsize=(13,17))\n",
    "# Create a pair plot using Seaborn for numerical columns in the Dataframe\n",
    "sns.pairplot(data=df[[\"Sales\", \"Customers\"]])\n",
    "plt.show()"
   ]
  },
  {
   "cell_type": "code",
   "execution_count": 0,
   "metadata": {
    "application/vnd.databricks.v1+cell": {
     "cellMetadata": {
      "byteLimit": 2048000,
      "rowLimit": 10000
     },
     "inputWidgets": {},
     "nuid": "478d788c-38c4-414d-ba57-a909832a3336",
     "showTitle": false,
     "title": ""
    }
   },
   "outputs": [
    {
     "output_type": "display_data",
     "data": {
      "image/png": "[encoded data removed]",
      "text/plain": [
       "<Figure size 2500x3500 with 2 Axes>"
      ]
     },
     "metadata": {},
     "output_type": "display_data"
    }
   ],
   "source": [
    "# Create a subplot with a figure size of 25 inches by 35 inches\n",
    "color_map, axis = plt.subplots(figsize = (25,35))\n",
    "# Calculate the correlation matrix for the specified numerical columns in the DataFrame' using Pearson's method\n",
    "correlation_matrix = df[numerical_columns].corr(method = 'pearson')\n",
    "# Create a diverging color palette for the heatmap\n",
    "cmap = sns.diverging_palette(220,10, as_cmap = True)\n",
    "# Create a heatmap to visualize the correlation matrix\n",
    "# cmap - Use the diverging color palette created above\n",
    "# square - Make the cells square\n",
    "# cbar_kws - Add a color bar with a shrink factor of 0.9\n",
    "# ax - Use the specified axis for the plot\n",
    "# annot - Annotate the cells with the correlation values\n",
    "# annot_kws - Set the font size for the annotations to 8\n",
    "_ = sns.heatmap (correlation_matrix, cmap = cmap, square = True, cbar_kws={\n",
    "    'shrink' : .9}, ax=axis, annot = True, annot_kws = {'fontsize':8})"
   ]
  }
 ],
 "metadata": {
  "application/vnd.databricks.v1+notebook": {
   "dashboards": [],
   "environmentMetadata": null,
   "language": "python",
   "notebookMetadata": {
    "pythonIndentUnit": 4
   },
   "notebookName": "Introduction to Data Science with Python",
   "widgets": {}
  }
 },
 "nbformat": 4,
 "nbformat_minor": 0
}
